{
 "cells": [
  {
   "cell_type": "markdown",
   "metadata": {
    "application/vnd.databricks.v1+cell": {
     "inputWidgets": {},
     "nuid": "aaa87597-d8f4-43ce-9d43-4fb3bd93804d",
     "showTitle": false,
     "title": ""
    }
   },
   "source": [
    "# Secret Management\n",
    "- Sometimes accessing data requires that you authenticate to external data sources through JDBC. Instead of directly entering your credentials into a notebook, use Databricks secrets to store your credentials and reference them in notebooks and jobs. To manage secrets, you can use the Databricks CLI to access the Secrets API 2.0.\n",
    "\n",
    "- We have Two different ways to create Secret:\n",
    "   - Azure key-vault Backed Secret scope.\n",
    "   - Databricks-backed secret scope."
   ]
  },
  {
   "cell_type": "markdown",
   "metadata": {
    "application/vnd.databricks.v1+cell": {
     "inputWidgets": {},
     "nuid": "c332adde-129c-4311-b622-c7f74b8342c2",
     "showTitle": false,
     "title": ""
    }
   },
   "source": [
    "## Databricks-backed secret scope\n",
    "\n",
    "To set up secrets you:\n",
    "- Create a secret scope(Secret scope names are case insensitive).\n",
    "- Add secrets to the scope(Secret names are case insensitive)."
   ]
  },
  {
   "cell_type": "markdown",
   "metadata": {
    "application/vnd.databricks.v1+cell": {
     "inputWidgets": {},
     "nuid": "6aa7e329-15e6-423f-8b33-845a0a4a4225",
     "showTitle": false,
     "title": ""
    }
   },
   "source": [
    "### Let's Understand the use of secret with an example."
   ]
  },
  {
   "cell_type": "markdown",
   "metadata": {
    "application/vnd.databricks.v1+cell": {
     "inputWidgets": {},
     "nuid": "627b3652-8a20-4c54-9589-07e9ec7125fd",
     "showTitle": false,
     "title": ""
    }
   },
   "source": [
    "**Step 1: Create Scope with name Freshbooks**\n",
    "\n",
    "```cmd\n",
    "databricks secrets create-scope --scope Freshbooks\n",
    "```\n",
    "\n",
    "If your account does not have the Premium plan or above, you must create the scope with MANAGE permission granted to all users (“users”).\n",
    "\n",
    "```cmd\n",
    "databricks secrets create-scope --scope Freshbooks --initial-manage-principal users\n",
    "```"
   ]
  },
  {
   "cell_type": "markdown",
   "metadata": {
    "application/vnd.databricks.v1+cell": {
     "inputWidgets": {},
     "nuid": "2d8e6b9c-6101-48b6-96f6-7b5fec170c69",
     "showTitle": false,
     "title": ""
    }
   },
   "source": [
    "**Step 2: Create Secret within scope Freshbooks**\n",
    "\n",
    "Add the secrets <code>client_id, client_secret</code>, and <code>redirect_url</code>. Run the following commands and enter the secret values in the opened editor.\n",
    "\n",
    "```cmd\n",
    "databricks secrets put --scope Freshbooks --key client_id\n",
    "databricks secrets put --scope Freshbooks --key client_secret\n",
    "databricks secrets put --scope Freshbooks --key redirect_url\n",
    "```"
   ]
  },
  {
   "cell_type": "markdown",
   "metadata": {
    "application/vnd.databricks.v1+cell": {
     "inputWidgets": {},
     "nuid": "0fe75687-234e-4a88-bcce-c4a3f0c7dc7c",
     "showTitle": false,
     "title": ""
    }
   },
   "source": [
    "## How to Use Secrets In Notebook\n",
    "\n",
    "- In a notebook, read the secrets that are stored in the secret scope Freshbooks to configure a Freshbooks Api.\n",
    "- We can   access with secrets with the help of dbutils.\n",
    "- You can check out the available functions with <code>dbutils.secrets.help()</code>\n",
    "- You can check out the functionality for each function with with help of <code>dbutils.secrets.help('get')</code>."
   ]
  },
  {
   "cell_type": "code",
   "execution_count": 0,
   "metadata": {
    "application/vnd.databricks.v1+cell": {
     "inputWidgets": {},
     "nuid": "5d3fbdda-100c-46cf-92b9-1c535d8d0109",
     "showTitle": false,
     "title": ""
    }
   },
   "outputs": [
    {
     "data": {
      "text/html": [
       "<div class = \"ansiout\">\n",
       "Provides utilities for leveraging secrets within notebooks.\n",
       "Databricks documentation for more info.\n",
       "    <h3></h3><b>get(scope: String, key: String): String</b> -> Gets the string representation of a secret value with scope and key<br /><b>getBytes(scope: String, key: String): byte[]</b> -> Gets the bytes representation of a secret value with scope and key<br /><b>list(scope: String): Seq</b> -> Lists secret metadata for secrets within a scope<br /><b>listScopes: Seq</b> -> Lists secret scopes<br /><br /></div>"
      ]
     },
     "metadata": {
      "application/vnd.databricks.v1+output": {
       "addedWidgets": {},
       "arguments": {},
       "data": "<div class = \"ansiout\">\nProvides utilities for leveraging secrets within notebooks.\nDatabricks documentation for more info.\n    <h3></h3><b>get(scope: String, key: String): String</b> -> Gets the string representation of a secret value with scope and key<br /><b>getBytes(scope: String, key: String): byte[]</b> -> Gets the bytes representation of a secret value with scope and key<br /><b>list(scope: String): Seq</b> -> Lists secret metadata for secrets within a scope<br /><b>listScopes: Seq</b> -> Lists secret scopes<br /><br /></div>",
       "datasetInfos": [],
       "metadata": {},
       "removedWidgets": [],
       "textData": null,
       "type": "htmlSandbox"
      }
     },
     "output_type": "display_data"
    }
   ],
   "source": [
    "dbutils.secrets.help()\n"
   ]
  },
  {
   "cell_type": "code",
   "execution_count": 0,
   "metadata": {
    "application/vnd.databricks.v1+cell": {
     "inputWidgets": {},
     "nuid": "fb9d9903-a9e3-4da7-9314-157e1106049b",
     "showTitle": false,
     "title": ""
    }
   },
   "outputs": [
    {
     "data": {
      "text/html": [
       "<div class = \"ansiout\">/**<br /> * Gets the string representation of a secret value with scope and key.<br /> * This API assumes the secret is encoded as UTF-8 bytes. This will<br /> * always be the case if you use the `string_value` write API.<br /> * <br /> * Example: dbutils.secrets.get(\"scope1\", \"key1\")<br /> * <br /> * @param scope Scope in which the secret was created<br /> * @param key Key with which the secret was created<br /> */<br /><b>get(scope: java.lang.String, key: java.lang.String): java.lang.String</b></div><br />"
      ]
     },
     "metadata": {
      "application/vnd.databricks.v1+output": {
       "addedWidgets": {},
       "arguments": {},
       "data": "<div class = \"ansiout\">/**<br /> * Gets the string representation of a secret value with scope and key.<br /> * This API assumes the secret is encoded as UTF-8 bytes. This will<br /> * always be the case if you use the `string_value` write API.<br /> * <br /> * Example: dbutils.secrets.get(\"scope1\", \"key1\")<br /> * <br /> * @param scope Scope in which the secret was created<br /> * @param key Key with which the secret was created<br /> */<br /><b>get(scope: java.lang.String, key: java.lang.String): java.lang.String</b></div><br />",
       "datasetInfos": [],
       "metadata": {},
       "removedWidgets": [],
       "textData": null,
       "type": "htmlSandbox"
      }
     },
     "output_type": "display_data"
    }
   ],
   "source": [
    "dbutils.secrets.help(\"get\")"
   ]
  },
  {
   "cell_type": "markdown",
   "metadata": {
    "application/vnd.databricks.v1+cell": {
     "inputWidgets": {},
     "nuid": "0894d5e1-118b-4f29-a57a-99ab681845ac",
     "showTitle": false,
     "title": ""
    }
   },
   "source": [
    "**Freshbooks Authorization**\n",
    "\n",
    "Here You can see how to access with the secrets. \n",
    "\n",
    "```python\n",
    "import requests\n",
    "\n",
    "base_url = \"https://auth.freshbooks.com/oauth/authorize/\"\n",
    "response_type = \"code\"\n",
    "redirect_url = dbutils.secrets.get(scope = \"Freshbooks\", key = \"redirect_url\")\n",
    "client_id = dbutils.secrets.get(scope = \"Freshbooks\", key = \"client_id\")\n",
    "client_secrets = dbutils.secrets.get(scope = \"Freshbooks\", key = \"client_secrets\")\n",
    "\n",
    "Url = f\"{base_url}?{response_type}{redirect_url}{client_id}{client_secrets}\"\n",
    "\n",
    "response = requests.get(Url)\n",
    "```"
   ]
  },
  {
   "cell_type": "markdown",
   "metadata": {
    "application/vnd.databricks.v1+cell": {
     "inputWidgets": {},
     "nuid": "5eb9c562-c385-475c-93e9-19e9451ff276",
     "showTitle": false,
     "title": ""
    }
   },
   "source": [
    "### Grant Access Of Secrets To Another Groups.\n",
    "- After verifying that the credentials were configured correctly, share these credentials with the freshbooksteam group to use for their analysis.\n",
    "\n",
    "- Grant the freshbooksteam group read-only permission to these credentials by making the following request.\n",
    "```cmd\n",
    "databricks secrets put-acl --scope Freshbooks --principal freshbooksteam --permission READ\n",
    "```"
   ]
  }
 ],
 "metadata": {
  "application/vnd.databricks.v1+notebook": {
   "dashboards": [],
   "language": "python",
   "notebookMetadata": {
    "pythonIndentUnit": 4
   },
   "notebookName": "DatabricksSecrets",
   "notebookOrigID": 1120622350129223,
   "widgets": {}
  },
  "kernelspec": {
   "display_name": "Python 3 (ipykernel)",
   "language": "python",
   "name": "python3"
  },
  "language_info": {
   "codemirror_mode": {
    "name": "ipython",
    "version": 3
   },
   "file_extension": ".py",
   "mimetype": "text/x-python",
   "name": "python",
   "nbconvert_exporter": "python",
   "pygments_lexer": "ipython3",
   "version": "3.10.5"
  }
 },
 "nbformat": 4,
 "nbformat_minor": 1
}
